{
 "cells": [
  {
   "cell_type": "code",
   "execution_count": 1,
   "metadata": {},
   "outputs": [],
   "source": [
    "import hjson\n",
    "import csv\n",
    "\n",
    "import os\n",
    "import sys\n",
    "\n",
    "import pulp\n",
    "import itertools\n",
    "import pandas as pd\n",
    "import scipy as sc\n",
    "import numpy as np"
   ]
  },
  {
   "cell_type": "code",
   "execution_count": 38,
   "metadata": {},
   "outputs": [
    {
     "name": "stdout",
     "output_type": "stream",
     "text": [
      "OrderedDict([('Std_TFe', 58), ('Rls_TFe', 2), ('Std_SiO2', 5), ('Rls_SiO2', 0.3), ('Std_MgO', 1.6), ('Rls_MgO', 0.2), ('Std_Al2O3', 1.55), ('Rls_Al2O3', 0.55), ('Std_K2O', 0.075), ('Rls_K2O', 0.075), ('Std_FeO', 8), ('Rls_FeO', 0.5), ('Std_ZnO', 0.05), ('Rls_ZnO', 0.05), ('Std_CaOSiO2_ratio', 2.1), ('Rls_CaOSiO2_ratio', 0.2)])\n"
     ]
    }
   ],
   "source": [
    "constr = {}\n",
    "with open(\"../config/constraints.hjson\",'r',encoding='utf-8') as conf:\n",
    "    constr = hjson.load(conf)\n",
    "    # S for string\n",
    "for conf in list(constr.items()):\n",
    "    # print(conf)\n",
    "    # print(val)\n",
    "    if conf[1] == -1:\n",
    "#         print(conf)\n",
    "        constr.pop(conf[0])\n",
    "\n",
    "#         del conf\n",
    "print(constr)\n",
    "# with open()"
   ]
  },
  {
   "cell_type": "code",
   "execution_count": 42,
   "metadata": {},
   "outputs": [
    {
     "name": "stdout",
     "output_type": "stream",
     "text": [
      "['Type', 'Name', 'TFe', 'SiO2', 'Al2O3', 'CaO', 'MgO', 'S', 'P', 'K2O', 'LOI', 'H2O', 'UnitPrice']\n",
      "['M', '', '', '', '', '', '', '', '', '', '', '', '']\n",
      "['M', '', '', '', '', '', '', '', '', '', '', '', '']\n",
      "['M', '', '', '', '', '', '', '', '', '', '', '', '']\n",
      "['M', '', '', '', '', '', '', '', '', '', '', '', '']\n",
      "['M', '', '', '', '', '', '', '', '', '', '', '', '']\n",
      "['M', '', '', '', '', '', '', '', '', '', '', '', '']\n",
      "['M', '', '', '', '', '', '', '', '', '', '', '', '']\n",
      "['H', '热返矿', '', '', '', '', '', '', '', '', '', '', '']\n",
      "['C', '冷返矿', '', '', '', '', '', '', '', '', '', '', '']\n",
      "['Z', '杂矿', '', '', '', '', '', '', '', '', '', '', '']\n",
      "['CA', '生石灰粉', '', '', '', '', '', '', '', '', '', '', '']\n",
      "['CB', '高镁粉', '', '', '', '', '', '', '', '', '', '', '']\n",
      "['J', '焦粉', '', '', '', '', '', '', '', '', '', '', '']\n",
      "['M', '煤粉', '', '', '', '', '', '', '', '', '', '', '']\n"
     ]
    }
   ],
   "source": [
    "with open(\"../config/mineral.csv\",'r',encoding='gb2312') as form:\n",
    "    data = csv.reader(form)\n",
    "    for d in data:\n",
    "        print(d)"
   ]
  },
  {
   "cell_type": "code",
   "execution_count": null,
   "metadata": {},
   "outputs": [],
   "source": [
    "# Constraints:\n",
    "\n",
    "## STD\n",
    "## 含铁合计100\n",
    "## 脱水核算单位LOI"
   ]
  },
  {
   "cell_type": "code",
   "execution_count": null,
   "metadata": {},
   "outputs": [],
   "source": []
  },
  {
   "cell_type": "code",
   "execution_count": null,
   "metadata": {},
   "outputs": [],
   "source": []
  }
 ],
 "metadata": {
  "kernelspec": {
   "display_name": "Python 3",
   "language": "python",
   "name": "python3"
  },
  "language_info": {
   "codemirror_mode": {
    "name": "ipython",
    "version": 3
   },
   "file_extension": ".py",
   "mimetype": "text/x-python",
   "name": "python",
   "nbconvert_exporter": "python",
   "pygments_lexer": "ipython3",
   "version": "3.7.7"
  }
 },
 "nbformat": 4,
 "nbformat_minor": 4
}
